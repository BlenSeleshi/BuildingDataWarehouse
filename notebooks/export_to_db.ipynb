{
 "cells": [
  {
   "cell_type": "markdown",
   "metadata": {},
   "source": [
    "### Importing the Necessary Packages"
   ]
  },
  {
   "cell_type": "code",
   "execution_count": 37,
   "metadata": {},
   "outputs": [],
   "source": [
    "import pandas as pd\n",
    "import os\n",
    "from sqlalchemy import create_engine\n",
    "from dotenv import load_dotenv"
   ]
  },
  {
   "cell_type": "markdown",
   "metadata": {},
   "source": [
    "### Loading the Dataset"
   ]
  },
  {
   "cell_type": "code",
   "execution_count": 24,
   "metadata": {},
   "outputs": [],
   "source": [
    "df = pd.read_csv(r'detection_results_info\\all_detections.csv')"
   ]
  },
  {
   "cell_type": "code",
   "execution_count": 25,
   "metadata": {},
   "outputs": [
    {
     "data": {
      "text/html": [
       "<div>\n",
       "<style scoped>\n",
       "    .dataframe tbody tr th:only-of-type {\n",
       "        vertical-align: middle;\n",
       "    }\n",
       "\n",
       "    .dataframe tbody tr th {\n",
       "        vertical-align: top;\n",
       "    }\n",
       "\n",
       "    .dataframe thead th {\n",
       "        text-align: right;\n",
       "    }\n",
       "</style>\n",
       "<table border=\"1\" class=\"dataframe\">\n",
       "  <thead>\n",
       "    <tr style=\"text-align: right;\">\n",
       "      <th></th>\n",
       "      <th>image</th>\n",
       "      <th>name</th>\n",
       "      <th>confidence</th>\n",
       "      <th>xmin</th>\n",
       "      <th>ymin</th>\n",
       "      <th>xmax</th>\n",
       "      <th>ymax</th>\n",
       "    </tr>\n",
       "  </thead>\n",
       "  <tbody>\n",
       "    <tr>\n",
       "      <th>0</th>\n",
       "      <td>@CheMed123_13.jpg</td>\n",
       "      <td>sports ball</td>\n",
       "      <td>0.729678</td>\n",
       "      <td>318.366425</td>\n",
       "      <td>394.813049</td>\n",
       "      <td>382.800201</td>\n",
       "      <td>462.255859</td>\n",
       "    </tr>\n",
       "    <tr>\n",
       "      <th>1</th>\n",
       "      <td>@CheMed123_13.jpg</td>\n",
       "      <td>sports ball</td>\n",
       "      <td>0.684087</td>\n",
       "      <td>739.459229</td>\n",
       "      <td>544.979797</td>\n",
       "      <td>807.581909</td>\n",
       "      <td>615.879944</td>\n",
       "    </tr>\n",
       "    <tr>\n",
       "      <th>2</th>\n",
       "      <td>@CheMed123_13.jpg</td>\n",
       "      <td>cup</td>\n",
       "      <td>0.677431</td>\n",
       "      <td>738.390198</td>\n",
       "      <td>542.634155</td>\n",
       "      <td>807.933777</td>\n",
       "      <td>616.783691</td>\n",
       "    </tr>\n",
       "    <tr>\n",
       "      <th>3</th>\n",
       "      <td>@CheMed123_13.jpg</td>\n",
       "      <td>sports ball</td>\n",
       "      <td>0.511538</td>\n",
       "      <td>668.202393</td>\n",
       "      <td>589.573730</td>\n",
       "      <td>730.860596</td>\n",
       "      <td>657.322266</td>\n",
       "    </tr>\n",
       "    <tr>\n",
       "      <th>4</th>\n",
       "      <td>@CheMed123_13.jpg</td>\n",
       "      <td>sports ball</td>\n",
       "      <td>0.450486</td>\n",
       "      <td>231.458694</td>\n",
       "      <td>473.585480</td>\n",
       "      <td>299.499542</td>\n",
       "      <td>536.707458</td>\n",
       "    </tr>\n",
       "  </tbody>\n",
       "</table>\n",
       "</div>"
      ],
      "text/plain": [
       "               image         name  confidence        xmin        ymin  \\\n",
       "0  @CheMed123_13.jpg  sports ball    0.729678  318.366425  394.813049   \n",
       "1  @CheMed123_13.jpg  sports ball    0.684087  739.459229  544.979797   \n",
       "2  @CheMed123_13.jpg          cup    0.677431  738.390198  542.634155   \n",
       "3  @CheMed123_13.jpg  sports ball    0.511538  668.202393  589.573730   \n",
       "4  @CheMed123_13.jpg  sports ball    0.450486  231.458694  473.585480   \n",
       "\n",
       "         xmax        ymax  \n",
       "0  382.800201  462.255859  \n",
       "1  807.581909  615.879944  \n",
       "2  807.933777  616.783691  \n",
       "3  730.860596  657.322266  \n",
       "4  299.499542  536.707458  "
      ]
     },
     "execution_count": 25,
     "metadata": {},
     "output_type": "execute_result"
    }
   ],
   "source": [
    "df.head()"
   ]
  },
  {
   "cell_type": "code",
   "execution_count": 26,
   "metadata": {},
   "outputs": [
    {
     "data": {
      "text/plain": [
       "array(['sports ball', 'cup', 'carrot', 'bottle', 'refrigerator', 'person',\n",
       "       'chair', 'book', 'cell phone', 'frisbee', 'motorcycle', 'clock',\n",
       "       'orange', 'baseball bat', 'mouse', 'remote', 'keyboard',\n",
       "       'toothbrush', 'kite', 'horse', 'stop sign', 'potted plant', 'tv',\n",
       "       'banana', 'vase', 'sandwich', 'cake', 'tie', 'toilet', 'suitcase',\n",
       "       'apple', 'parking meter', 'bowl', 'knife', 'cat', 'microwave',\n",
       "       'donut', 'fork'], dtype=object)"
      ]
     },
     "execution_count": 26,
     "metadata": {},
     "output_type": "execute_result"
    }
   ],
   "source": [
    "df['name'].unique()"
   ]
  },
  {
   "cell_type": "markdown",
   "metadata": {},
   "source": [
    "### Performing Transformation before Loading to the Dataset"
   ]
  },
  {
   "cell_type": "markdown",
   "metadata": {},
   "source": [
    "#### Replacing Terms Related to Pills"
   ]
  },
  {
   "cell_type": "code",
   "execution_count": 27,
   "metadata": {},
   "outputs": [],
   "source": [
    "df['name'] = df['name'].replace({'sports ball': 'pill', 'frisbee': 'pill','apple': 'pill', 'remote': 'pill',\n",
    "                                 'orange': 'pill', 'keyboard': 'pill','banana': 'pill',\n",
    "                                 'mouse': 'pill', 'toilet': 'pill'})\n"
   ]
  },
  {
   "cell_type": "markdown",
   "metadata": {},
   "source": [
    "#### Replacing terms Related to Needle"
   ]
  },
  {
   "cell_type": "code",
   "execution_count": 28,
   "metadata": {},
   "outputs": [],
   "source": [
    "df['name'] = df['name'].replace({'baseball bat': 'needle'})\n"
   ]
  },
  {
   "cell_type": "markdown",
   "metadata": {},
   "source": [
    "#### Replacing Terms Related to Foods and Supplements"
   ]
  },
  {
   "cell_type": "code",
   "execution_count": 29,
   "metadata": {},
   "outputs": [],
   "source": [
    "df['name'] = df['name'].replace({'parking meter': 'foods and supplements',\n",
    "                                 'cup': 'foods and supplements'})"
   ]
  },
  {
   "cell_type": "markdown",
   "metadata": {},
   "source": [
    "#### Replacing Terms Related to Skin and Hair Care Products"
   ]
  },
  {
   "cell_type": "code",
   "execution_count": 30,
   "metadata": {},
   "outputs": [],
   "source": [
    "df['name'] = df['name'].replace({'book': 'skin and hair care product','parking meter': 'skin and hair care product',\n",
    "                                 'vase': 'skin and hair care product', 'surf board': 'skin and hair care product'})"
   ]
  },
  {
   "cell_type": "markdown",
   "metadata": {},
   "source": [
    "### Looking to the Modified Dataframe"
   ]
  },
  {
   "cell_type": "code",
   "execution_count": 33,
   "metadata": {},
   "outputs": [
    {
     "data": {
      "text/html": [
       "<div>\n",
       "<style scoped>\n",
       "    .dataframe tbody tr th:only-of-type {\n",
       "        vertical-align: middle;\n",
       "    }\n",
       "\n",
       "    .dataframe tbody tr th {\n",
       "        vertical-align: top;\n",
       "    }\n",
       "\n",
       "    .dataframe thead th {\n",
       "        text-align: right;\n",
       "    }\n",
       "</style>\n",
       "<table border=\"1\" class=\"dataframe\">\n",
       "  <thead>\n",
       "    <tr style=\"text-align: right;\">\n",
       "      <th></th>\n",
       "      <th>image</th>\n",
       "      <th>name</th>\n",
       "      <th>confidence</th>\n",
       "      <th>xmin</th>\n",
       "      <th>ymin</th>\n",
       "      <th>xmax</th>\n",
       "      <th>ymax</th>\n",
       "    </tr>\n",
       "  </thead>\n",
       "  <tbody>\n",
       "    <tr>\n",
       "      <th>0</th>\n",
       "      <td>@CheMed123_13.jpg</td>\n",
       "      <td>pill</td>\n",
       "      <td>0.729678</td>\n",
       "      <td>318.366425</td>\n",
       "      <td>394.813049</td>\n",
       "      <td>382.800201</td>\n",
       "      <td>462.255859</td>\n",
       "    </tr>\n",
       "    <tr>\n",
       "      <th>1</th>\n",
       "      <td>@CheMed123_13.jpg</td>\n",
       "      <td>pill</td>\n",
       "      <td>0.684087</td>\n",
       "      <td>739.459229</td>\n",
       "      <td>544.979797</td>\n",
       "      <td>807.581909</td>\n",
       "      <td>615.879944</td>\n",
       "    </tr>\n",
       "    <tr>\n",
       "      <th>2</th>\n",
       "      <td>@CheMed123_13.jpg</td>\n",
       "      <td>foods and supplements</td>\n",
       "      <td>0.677431</td>\n",
       "      <td>738.390198</td>\n",
       "      <td>542.634155</td>\n",
       "      <td>807.933777</td>\n",
       "      <td>616.783691</td>\n",
       "    </tr>\n",
       "    <tr>\n",
       "      <th>3</th>\n",
       "      <td>@CheMed123_13.jpg</td>\n",
       "      <td>pill</td>\n",
       "      <td>0.511538</td>\n",
       "      <td>668.202393</td>\n",
       "      <td>589.573730</td>\n",
       "      <td>730.860596</td>\n",
       "      <td>657.322266</td>\n",
       "    </tr>\n",
       "    <tr>\n",
       "      <th>4</th>\n",
       "      <td>@CheMed123_13.jpg</td>\n",
       "      <td>pill</td>\n",
       "      <td>0.450486</td>\n",
       "      <td>231.458694</td>\n",
       "      <td>473.585480</td>\n",
       "      <td>299.499542</td>\n",
       "      <td>536.707458</td>\n",
       "    </tr>\n",
       "    <tr>\n",
       "      <th>5</th>\n",
       "      <td>@CheMed123_13.jpg</td>\n",
       "      <td>carrot</td>\n",
       "      <td>0.433008</td>\n",
       "      <td>484.612061</td>\n",
       "      <td>559.840820</td>\n",
       "      <td>578.427979</td>\n",
       "      <td>645.527222</td>\n",
       "    </tr>\n",
       "    <tr>\n",
       "      <th>6</th>\n",
       "      <td>@CheMed123_13.jpg</td>\n",
       "      <td>pill</td>\n",
       "      <td>0.272149</td>\n",
       "      <td>588.231079</td>\n",
       "      <td>584.226318</td>\n",
       "      <td>703.440796</td>\n",
       "      <td>702.941772</td>\n",
       "    </tr>\n",
       "    <tr>\n",
       "      <th>7</th>\n",
       "      <td>@CheMed123_13.jpg</td>\n",
       "      <td>foods and supplements</td>\n",
       "      <td>0.255105</td>\n",
       "      <td>773.672363</td>\n",
       "      <td>623.518127</td>\n",
       "      <td>842.302246</td>\n",
       "      <td>695.905701</td>\n",
       "    </tr>\n",
       "    <tr>\n",
       "      <th>8</th>\n",
       "      <td>@CheMed123_17.jpg</td>\n",
       "      <td>bottle</td>\n",
       "      <td>0.672029</td>\n",
       "      <td>575.376160</td>\n",
       "      <td>379.736206</td>\n",
       "      <td>607.631653</td>\n",
       "      <td>462.848083</td>\n",
       "    </tr>\n",
       "    <tr>\n",
       "      <th>9</th>\n",
       "      <td>@CheMed123_17.jpg</td>\n",
       "      <td>bottle</td>\n",
       "      <td>0.439900</td>\n",
       "      <td>610.259399</td>\n",
       "      <td>513.444336</td>\n",
       "      <td>638.639160</td>\n",
       "      <td>603.277832</td>\n",
       "    </tr>\n",
       "  </tbody>\n",
       "</table>\n",
       "</div>"
      ],
      "text/plain": [
       "               image                   name  confidence        xmin  \\\n",
       "0  @CheMed123_13.jpg                   pill    0.729678  318.366425   \n",
       "1  @CheMed123_13.jpg                   pill    0.684087  739.459229   \n",
       "2  @CheMed123_13.jpg  foods and supplements    0.677431  738.390198   \n",
       "3  @CheMed123_13.jpg                   pill    0.511538  668.202393   \n",
       "4  @CheMed123_13.jpg                   pill    0.450486  231.458694   \n",
       "5  @CheMed123_13.jpg                 carrot    0.433008  484.612061   \n",
       "6  @CheMed123_13.jpg                   pill    0.272149  588.231079   \n",
       "7  @CheMed123_13.jpg  foods and supplements    0.255105  773.672363   \n",
       "8  @CheMed123_17.jpg                 bottle    0.672029  575.376160   \n",
       "9  @CheMed123_17.jpg                 bottle    0.439900  610.259399   \n",
       "\n",
       "         ymin        xmax        ymax  \n",
       "0  394.813049  382.800201  462.255859  \n",
       "1  544.979797  807.581909  615.879944  \n",
       "2  542.634155  807.933777  616.783691  \n",
       "3  589.573730  730.860596  657.322266  \n",
       "4  473.585480  299.499542  536.707458  \n",
       "5  559.840820  578.427979  645.527222  \n",
       "6  584.226318  703.440796  702.941772  \n",
       "7  623.518127  842.302246  695.905701  \n",
       "8  379.736206  607.631653  462.848083  \n",
       "9  513.444336  638.639160  603.277832  "
      ]
     },
     "execution_count": 33,
     "metadata": {},
     "output_type": "execute_result"
    }
   ],
   "source": [
    "df.head(10)"
   ]
  },
  {
   "cell_type": "code",
   "execution_count": 32,
   "metadata": {},
   "outputs": [
    {
     "data": {
      "text/plain": [
       "array(['pill', 'foods and supplements', 'carrot', 'bottle',\n",
       "       'refrigerator', 'person', 'chair', 'skin and hair care product',\n",
       "       'cell phone', 'motorcycle', 'clock', 'needle', 'toothbrush',\n",
       "       'kite', 'horse', 'stop sign', 'potted plant', 'tv', 'sandwich',\n",
       "       'cake', 'tie', 'suitcase', 'bowl', 'knife', 'cat', 'microwave',\n",
       "       'donut', 'fork'], dtype=object)"
      ]
     },
     "execution_count": 32,
     "metadata": {},
     "output_type": "execute_result"
    }
   ],
   "source": [
    "df['name'].unique()"
   ]
  },
  {
   "cell_type": "code",
   "execution_count": 34,
   "metadata": {},
   "outputs": [],
   "source": [
    "# Filter rows where 'Category' is 'A' or 'B', and 'Value' is less than or equal to 4\n",
    "filtered_df = df[((df['name'] == 'pill') | (df['name'] == 'foods and supplements') | ((df['name'] == 'bottle'))\n",
    "                  | (df['name'] == 'skin and hair care product') | (df['name'] == 'needle'))]\n"
   ]
  },
  {
   "cell_type": "code",
   "execution_count": 35,
   "metadata": {},
   "outputs": [
    {
     "data": {
      "text/html": [
       "<div>\n",
       "<style scoped>\n",
       "    .dataframe tbody tr th:only-of-type {\n",
       "        vertical-align: middle;\n",
       "    }\n",
       "\n",
       "    .dataframe tbody tr th {\n",
       "        vertical-align: top;\n",
       "    }\n",
       "\n",
       "    .dataframe thead th {\n",
       "        text-align: right;\n",
       "    }\n",
       "</style>\n",
       "<table border=\"1\" class=\"dataframe\">\n",
       "  <thead>\n",
       "    <tr style=\"text-align: right;\">\n",
       "      <th></th>\n",
       "      <th>image</th>\n",
       "      <th>name</th>\n",
       "      <th>confidence</th>\n",
       "      <th>xmin</th>\n",
       "      <th>ymin</th>\n",
       "      <th>xmax</th>\n",
       "      <th>ymax</th>\n",
       "    </tr>\n",
       "  </thead>\n",
       "  <tbody>\n",
       "    <tr>\n",
       "      <th>0</th>\n",
       "      <td>@CheMed123_13.jpg</td>\n",
       "      <td>pill</td>\n",
       "      <td>0.729678</td>\n",
       "      <td>318.366425</td>\n",
       "      <td>394.813049</td>\n",
       "      <td>382.800201</td>\n",
       "      <td>462.255859</td>\n",
       "    </tr>\n",
       "    <tr>\n",
       "      <th>1</th>\n",
       "      <td>@CheMed123_13.jpg</td>\n",
       "      <td>pill</td>\n",
       "      <td>0.684087</td>\n",
       "      <td>739.459229</td>\n",
       "      <td>544.979797</td>\n",
       "      <td>807.581909</td>\n",
       "      <td>615.879944</td>\n",
       "    </tr>\n",
       "    <tr>\n",
       "      <th>2</th>\n",
       "      <td>@CheMed123_13.jpg</td>\n",
       "      <td>foods and supplements</td>\n",
       "      <td>0.677431</td>\n",
       "      <td>738.390198</td>\n",
       "      <td>542.634155</td>\n",
       "      <td>807.933777</td>\n",
       "      <td>616.783691</td>\n",
       "    </tr>\n",
       "    <tr>\n",
       "      <th>3</th>\n",
       "      <td>@CheMed123_13.jpg</td>\n",
       "      <td>pill</td>\n",
       "      <td>0.511538</td>\n",
       "      <td>668.202393</td>\n",
       "      <td>589.573730</td>\n",
       "      <td>730.860596</td>\n",
       "      <td>657.322266</td>\n",
       "    </tr>\n",
       "    <tr>\n",
       "      <th>4</th>\n",
       "      <td>@CheMed123_13.jpg</td>\n",
       "      <td>pill</td>\n",
       "      <td>0.450486</td>\n",
       "      <td>231.458694</td>\n",
       "      <td>473.585480</td>\n",
       "      <td>299.499542</td>\n",
       "      <td>536.707458</td>\n",
       "    </tr>\n",
       "  </tbody>\n",
       "</table>\n",
       "</div>"
      ],
      "text/plain": [
       "               image                   name  confidence        xmin  \\\n",
       "0  @CheMed123_13.jpg                   pill    0.729678  318.366425   \n",
       "1  @CheMed123_13.jpg                   pill    0.684087  739.459229   \n",
       "2  @CheMed123_13.jpg  foods and supplements    0.677431  738.390198   \n",
       "3  @CheMed123_13.jpg                   pill    0.511538  668.202393   \n",
       "4  @CheMed123_13.jpg                   pill    0.450486  231.458694   \n",
       "\n",
       "         ymin        xmax        ymax  \n",
       "0  394.813049  382.800201  462.255859  \n",
       "1  544.979797  807.581909  615.879944  \n",
       "2  542.634155  807.933777  616.783691  \n",
       "3  589.573730  730.860596  657.322266  \n",
       "4  473.585480  299.499542  536.707458  "
      ]
     },
     "execution_count": 35,
     "metadata": {},
     "output_type": "execute_result"
    }
   ],
   "source": [
    "filtered_df.head()"
   ]
  },
  {
   "cell_type": "code",
   "execution_count": 36,
   "metadata": {},
   "outputs": [
    {
     "data": {
      "text/plain": [
       "array(['pill', 'foods and supplements', 'bottle',\n",
       "       'skin and hair care product', 'needle'], dtype=object)"
      ]
     },
     "execution_count": 36,
     "metadata": {},
     "output_type": "execute_result"
    }
   ],
   "source": [
    "filtered_df['name'].unique()"
   ]
  },
  {
   "cell_type": "code",
   "execution_count": 38,
   "metadata": {},
   "outputs": [
    {
     "name": "stdout",
     "output_type": "stream",
     "text": [
      "<class 'pandas.core.frame.DataFrame'>\n",
      "Index: 196 entries, 0 to 308\n",
      "Data columns (total 7 columns):\n",
      " #   Column      Non-Null Count  Dtype  \n",
      "---  ------      --------------  -----  \n",
      " 0   image       196 non-null    object \n",
      " 1   name        196 non-null    object \n",
      " 2   confidence  196 non-null    float64\n",
      " 3   xmin        196 non-null    float64\n",
      " 4   ymin        196 non-null    float64\n",
      " 5   xmax        196 non-null    float64\n",
      " 6   ymax        196 non-null    float64\n",
      "dtypes: float64(5), object(2)\n",
      "memory usage: 12.2+ KB\n"
     ]
    }
   ],
   "source": [
    "filtered_df.info()"
   ]
  },
  {
   "cell_type": "markdown",
   "metadata": {},
   "source": [
    "### Export the Filtered Dataframe to Postgres"
   ]
  },
  {
   "cell_type": "code",
   "execution_count": 40,
   "metadata": {},
   "outputs": [
    {
     "name": "stdout",
     "output_type": "stream",
     "text": [
      "Data successfully exported to extracted_objects_info in data_warehouse database.\n"
     ]
    }
   ],
   "source": [
    "\n",
    "# Load environment variables from the .env file\n",
    "load_dotenv()\n",
    "\n",
    "# Fetch database connection parameters from environment variables\n",
    "db_user = os.getenv('DB_USER')\n",
    "db_password = os.getenv('DB_PASSWORD')\n",
    "db_host = os.getenv('DB_HOST')\n",
    "db_port = os.getenv('DB_PORT', 5432)  # Default port is 5432 if not specified\n",
    "db_name = os.getenv('DB_NAME')\n",
    "\n",
    "# Create a connection string for PostgreSQL\n",
    "connection_string = f'postgresql://{db_user}:{db_password}@{db_host}:{db_port}/{db_name}'\n",
    "\n",
    "# Create a SQLAlchemy engine\n",
    "engine = create_engine(connection_string)\n",
    "\n",
    "# Example: Assuming 'all_detections' is your DataFrame\n",
    "table_name = 'extracted_objects_info'\n",
    "\n",
    "filtered_df = filtered_df.rename(columns={'xmin': 'x_min'})\n",
    "filtered_df = filtered_df.rename(columns={'ymin': 'y_min'})\n",
    "filtered_df = filtered_df.rename(columns={'xmax': 'x_max'})\n",
    "filtered_df = filtered_df.rename(columns={'ymax': 'y_max'})\n",
    "\n",
    "# Export the DataFrame to PostgreSQL\n",
    "filtered_df.to_sql(table_name, engine, if_exists='replace', index=False)\n",
    "\n",
    "print(f\"Data successfully exported to {table_name} in {db_name} database.\")\n"
   ]
  },
  {
   "cell_type": "code",
   "execution_count": null,
   "metadata": {},
   "outputs": [],
   "source": []
  }
 ],
 "metadata": {
  "kernelspec": {
   "display_name": ".venv",
   "language": "python",
   "name": "python3"
  },
  "language_info": {
   "codemirror_mode": {
    "name": "ipython",
    "version": 3
   },
   "file_extension": ".py",
   "mimetype": "text/x-python",
   "name": "python",
   "nbconvert_exporter": "python",
   "pygments_lexer": "ipython3",
   "version": "3.11.5"
  }
 },
 "nbformat": 4,
 "nbformat_minor": 2
}
