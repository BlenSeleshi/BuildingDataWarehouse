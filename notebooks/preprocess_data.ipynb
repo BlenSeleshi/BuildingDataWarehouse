{
 "cells": [
  {
   "cell_type": "markdown",
   "metadata": {},
   "source": [
    "### Importing the Necessary Packages"
   ]
  },
  {
   "cell_type": "code",
   "execution_count": 2,
   "metadata": {},
   "outputs": [],
   "source": [
    "import pandas as pd"
   ]
  },
  {
   "cell_type": "markdown",
   "metadata": {},
   "source": [
    "### Loading the Dataset"
   ]
  },
  {
   "cell_type": "code",
   "execution_count": 3,
   "metadata": {},
   "outputs": [],
   "source": [
    "df = pd.read_csv(r'C:\\Users\\Blen\\OneDrive\\Desktop\\10Academy\\BuildingDataWarehouse\\data\\raw_data.csv')"
   ]
  },
  {
   "cell_type": "code",
   "execution_count": 4,
   "metadata": {},
   "outputs": [
    {
     "data": {
      "text/html": [
       "<div>\n",
       "<style scoped>\n",
       "    .dataframe tbody tr th:only-of-type {\n",
       "        vertical-align: middle;\n",
       "    }\n",
       "\n",
       "    .dataframe tbody tr th {\n",
       "        vertical-align: top;\n",
       "    }\n",
       "\n",
       "    .dataframe thead th {\n",
       "        text-align: right;\n",
       "    }\n",
       "</style>\n",
       "<table border=\"1\" class=\"dataframe\">\n",
       "  <thead>\n",
       "    <tr style=\"text-align: right;\">\n",
       "      <th></th>\n",
       "      <th>Channel Title</th>\n",
       "      <th>Channel Username</th>\n",
       "      <th>ID</th>\n",
       "      <th>Message</th>\n",
       "      <th>Date</th>\n",
       "      <th>Media Path</th>\n",
       "    </tr>\n",
       "  </thead>\n",
       "  <tbody>\n",
       "    <tr>\n",
       "      <th>0</th>\n",
       "      <td>Lobelia pharmacy and cosmetics</td>\n",
       "      <td>@lobelia4cosmetics</td>\n",
       "      <td>12366</td>\n",
       "      <td>SULFUR8 205g\\nPrice 3000 birr \\nTelegram https...</td>\n",
       "      <td>2024-10-09 12:44:53+00:00</td>\n",
       "      <td>photos\\@lobelia4cosmetics_12366.jpg</td>\n",
       "    </tr>\n",
       "    <tr>\n",
       "      <th>1</th>\n",
       "      <td>Lobelia pharmacy and cosmetics</td>\n",
       "      <td>@lobelia4cosmetics</td>\n",
       "      <td>12365</td>\n",
       "      <td>CHIA SEEDS \\nPrice 3000 birr \\nTelegram https:...</td>\n",
       "      <td>2024-10-09 12:44:53+00:00</td>\n",
       "      <td>photos\\@lobelia4cosmetics_12365.jpg</td>\n",
       "    </tr>\n",
       "    <tr>\n",
       "      <th>2</th>\n",
       "      <td>Lobelia pharmacy and cosmetics</td>\n",
       "      <td>@lobelia4cosmetics</td>\n",
       "      <td>12364</td>\n",
       "      <td>GLUCOSAMINE 1000MG/100MG 90 CAPSULES \\nPrice 5...</td>\n",
       "      <td>2024-10-09 12:44:53+00:00</td>\n",
       "      <td>photos\\@lobelia4cosmetics_12364.jpg</td>\n",
       "    </tr>\n",
       "    <tr>\n",
       "      <th>3</th>\n",
       "      <td>Lobelia pharmacy and cosmetics</td>\n",
       "      <td>@lobelia4cosmetics</td>\n",
       "      <td>12363</td>\n",
       "      <td>SUDO CREAM \\nPrice 4000 birr \\nTelegram https:...</td>\n",
       "      <td>2024-10-09 12:44:53+00:00</td>\n",
       "      <td>photos\\@lobelia4cosmetics_12363.jpg</td>\n",
       "    </tr>\n",
       "    <tr>\n",
       "      <th>4</th>\n",
       "      <td>Lobelia pharmacy and cosmetics</td>\n",
       "      <td>@lobelia4cosmetics</td>\n",
       "      <td>12362</td>\n",
       "      <td>Coconut oil \\nPrice 4500 birr \\nTelegram https...</td>\n",
       "      <td>2024-10-09 12:44:53+00:00</td>\n",
       "      <td>photos\\@lobelia4cosmetics_12362.jpg</td>\n",
       "    </tr>\n",
       "  </tbody>\n",
       "</table>\n",
       "</div>"
      ],
      "text/plain": [
       "                    Channel Title    Channel Username     ID  \\\n",
       "0  Lobelia pharmacy and cosmetics  @lobelia4cosmetics  12366   \n",
       "1  Lobelia pharmacy and cosmetics  @lobelia4cosmetics  12365   \n",
       "2  Lobelia pharmacy and cosmetics  @lobelia4cosmetics  12364   \n",
       "3  Lobelia pharmacy and cosmetics  @lobelia4cosmetics  12363   \n",
       "4  Lobelia pharmacy and cosmetics  @lobelia4cosmetics  12362   \n",
       "\n",
       "                                             Message  \\\n",
       "0  SULFUR8 205g\\nPrice 3000 birr \\nTelegram https...   \n",
       "1  CHIA SEEDS \\nPrice 3000 birr \\nTelegram https:...   \n",
       "2  GLUCOSAMINE 1000MG/100MG 90 CAPSULES \\nPrice 5...   \n",
       "3  SUDO CREAM \\nPrice 4000 birr \\nTelegram https:...   \n",
       "4  Coconut oil \\nPrice 4500 birr \\nTelegram https...   \n",
       "\n",
       "                        Date                           Media Path  \n",
       "0  2024-10-09 12:44:53+00:00  photos\\@lobelia4cosmetics_12366.jpg  \n",
       "1  2024-10-09 12:44:53+00:00  photos\\@lobelia4cosmetics_12365.jpg  \n",
       "2  2024-10-09 12:44:53+00:00  photos\\@lobelia4cosmetics_12364.jpg  \n",
       "3  2024-10-09 12:44:53+00:00  photos\\@lobelia4cosmetics_12363.jpg  \n",
       "4  2024-10-09 12:44:53+00:00  photos\\@lobelia4cosmetics_12362.jpg  "
      ]
     },
     "execution_count": 4,
     "metadata": {},
     "output_type": "execute_result"
    }
   ],
   "source": [
    "df.head()"
   ]
  },
  {
   "cell_type": "markdown",
   "metadata": {},
   "source": [
    "### Checking for Missing Values"
   ]
  },
  {
   "cell_type": "code",
   "execution_count": 6,
   "metadata": {},
   "outputs": [
    {
     "name": "stdout",
     "output_type": "stream",
     "text": [
      "<class 'pandas.core.frame.DataFrame'>\n",
      "RangeIndex: 6984 entries, 0 to 6983\n",
      "Data columns (total 6 columns):\n",
      " #   Column            Non-Null Count  Dtype \n",
      "---  ------            --------------  ----- \n",
      " 0   Channel Title     6984 non-null   object\n",
      " 1   Channel Username  6984 non-null   object\n",
      " 2   ID                6984 non-null   int64 \n",
      " 3   Message           5566 non-null   object\n",
      " 4   Date              6984 non-null   object\n",
      " 5   Media Path        5176 non-null   object\n",
      "dtypes: int64(1), object(5)\n",
      "memory usage: 327.5+ KB\n"
     ]
    }
   ],
   "source": [
    "df.info()"
   ]
  },
  {
   "cell_type": "markdown",
   "metadata": {},
   "source": [
    "### Handling Missing Values"
   ]
  },
  {
   "cell_type": "code",
   "execution_count": 7,
   "metadata": {},
   "outputs": [
    {
     "name": "stdout",
     "output_type": "stream",
     "text": [
      "Dataset shape after dropping NaN values in 'Message' column: (5566, 6)\n"
     ]
    }
   ],
   "source": [
    "df = df.dropna(subset=['Message'])\n",
    "\n",
    "# Print the shape of the dataset after dropping NaN values in the \"Message\" column\n",
    "print(f\"Dataset shape after dropping NaN values in 'Message' column: {df.shape}\")"
   ]
  },
  {
   "cell_type": "code",
   "execution_count": 8,
   "metadata": {},
   "outputs": [
    {
     "name": "stdout",
     "output_type": "stream",
     "text": [
      "<class 'pandas.core.frame.DataFrame'>\n",
      "Index: 5566 entries, 0 to 6982\n",
      "Data columns (total 6 columns):\n",
      " #   Column            Non-Null Count  Dtype \n",
      "---  ------            --------------  ----- \n",
      " 0   Channel Title     5566 non-null   object\n",
      " 1   Channel Username  5566 non-null   object\n",
      " 2   ID                5566 non-null   int64 \n",
      " 3   Message           5566 non-null   object\n",
      " 4   Date              5566 non-null   object\n",
      " 5   Media Path        4219 non-null   object\n",
      "dtypes: int64(1), object(5)\n",
      "memory usage: 304.4+ KB\n"
     ]
    }
   ],
   "source": [
    "df.info()"
   ]
  },
  {
   "cell_type": "markdown",
   "metadata": {},
   "source": [
    "### Droping Duplicates"
   ]
  },
  {
   "cell_type": "code",
   "execution_count": 11,
   "metadata": {},
   "outputs": [],
   "source": [
    "df = df.drop_duplicates(subset='Message')"
   ]
  },
  {
   "cell_type": "code",
   "execution_count": 12,
   "metadata": {},
   "outputs": [
    {
     "name": "stdout",
     "output_type": "stream",
     "text": [
      "<class 'pandas.core.frame.DataFrame'>\n",
      "Index: 3164 entries, 0 to 6982\n",
      "Data columns (total 6 columns):\n",
      " #   Column            Non-Null Count  Dtype \n",
      "---  ------            --------------  ----- \n",
      " 0   Channel Title     3164 non-null   object\n",
      " 1   Channel Username  3164 non-null   object\n",
      " 2   ID                3164 non-null   int64 \n",
      " 3   Message           3164 non-null   object\n",
      " 4   Date              3164 non-null   object\n",
      " 5   Media Path        1949 non-null   object\n",
      "dtypes: int64(1), object(5)\n",
      "memory usage: 173.0+ KB\n"
     ]
    }
   ],
   "source": [
    "df.info()"
   ]
  },
  {
   "cell_type": "code",
   "execution_count": 13,
   "metadata": {},
   "outputs": [
    {
     "data": {
      "text/html": [
       "<div>\n",
       "<style scoped>\n",
       "    .dataframe tbody tr th:only-of-type {\n",
       "        vertical-align: middle;\n",
       "    }\n",
       "\n",
       "    .dataframe tbody tr th {\n",
       "        vertical-align: top;\n",
       "    }\n",
       "\n",
       "    .dataframe thead th {\n",
       "        text-align: right;\n",
       "    }\n",
       "</style>\n",
       "<table border=\"1\" class=\"dataframe\">\n",
       "  <thead>\n",
       "    <tr style=\"text-align: right;\">\n",
       "      <th></th>\n",
       "      <th>Channel Title</th>\n",
       "      <th>Channel Username</th>\n",
       "      <th>ID</th>\n",
       "      <th>Message</th>\n",
       "      <th>Date</th>\n",
       "      <th>Media Path</th>\n",
       "    </tr>\n",
       "  </thead>\n",
       "  <tbody>\n",
       "    <tr>\n",
       "      <th>0</th>\n",
       "      <td>Lobelia pharmacy and cosmetics</td>\n",
       "      <td>@lobelia4cosmetics</td>\n",
       "      <td>12366</td>\n",
       "      <td>SULFUR8 205g\\nPrice 3000 birr \\nTelegram https...</td>\n",
       "      <td>2024-10-09 12:44:53+00:00</td>\n",
       "      <td>photos\\@lobelia4cosmetics_12366.jpg</td>\n",
       "    </tr>\n",
       "    <tr>\n",
       "      <th>1</th>\n",
       "      <td>Lobelia pharmacy and cosmetics</td>\n",
       "      <td>@lobelia4cosmetics</td>\n",
       "      <td>12365</td>\n",
       "      <td>CHIA SEEDS \\nPrice 3000 birr \\nTelegram https:...</td>\n",
       "      <td>2024-10-09 12:44:53+00:00</td>\n",
       "      <td>photos\\@lobelia4cosmetics_12365.jpg</td>\n",
       "    </tr>\n",
       "    <tr>\n",
       "      <th>2</th>\n",
       "      <td>Lobelia pharmacy and cosmetics</td>\n",
       "      <td>@lobelia4cosmetics</td>\n",
       "      <td>12364</td>\n",
       "      <td>GLUCOSAMINE 1000MG/100MG 90 CAPSULES \\nPrice 5...</td>\n",
       "      <td>2024-10-09 12:44:53+00:00</td>\n",
       "      <td>photos\\@lobelia4cosmetics_12364.jpg</td>\n",
       "    </tr>\n",
       "    <tr>\n",
       "      <th>3</th>\n",
       "      <td>Lobelia pharmacy and cosmetics</td>\n",
       "      <td>@lobelia4cosmetics</td>\n",
       "      <td>12363</td>\n",
       "      <td>SUDO CREAM \\nPrice 4000 birr \\nTelegram https:...</td>\n",
       "      <td>2024-10-09 12:44:53+00:00</td>\n",
       "      <td>photos\\@lobelia4cosmetics_12363.jpg</td>\n",
       "    </tr>\n",
       "    <tr>\n",
       "      <th>4</th>\n",
       "      <td>Lobelia pharmacy and cosmetics</td>\n",
       "      <td>@lobelia4cosmetics</td>\n",
       "      <td>12362</td>\n",
       "      <td>Coconut oil \\nPrice 4500 birr \\nTelegram https...</td>\n",
       "      <td>2024-10-09 12:44:53+00:00</td>\n",
       "      <td>photos\\@lobelia4cosmetics_12362.jpg</td>\n",
       "    </tr>\n",
       "  </tbody>\n",
       "</table>\n",
       "</div>"
      ],
      "text/plain": [
       "                    Channel Title    Channel Username     ID  \\\n",
       "0  Lobelia pharmacy and cosmetics  @lobelia4cosmetics  12366   \n",
       "1  Lobelia pharmacy and cosmetics  @lobelia4cosmetics  12365   \n",
       "2  Lobelia pharmacy and cosmetics  @lobelia4cosmetics  12364   \n",
       "3  Lobelia pharmacy and cosmetics  @lobelia4cosmetics  12363   \n",
       "4  Lobelia pharmacy and cosmetics  @lobelia4cosmetics  12362   \n",
       "\n",
       "                                             Message  \\\n",
       "0  SULFUR8 205g\\nPrice 3000 birr \\nTelegram https...   \n",
       "1  CHIA SEEDS \\nPrice 3000 birr \\nTelegram https:...   \n",
       "2  GLUCOSAMINE 1000MG/100MG 90 CAPSULES \\nPrice 5...   \n",
       "3  SUDO CREAM \\nPrice 4000 birr \\nTelegram https:...   \n",
       "4  Coconut oil \\nPrice 4500 birr \\nTelegram https...   \n",
       "\n",
       "                        Date                           Media Path  \n",
       "0  2024-10-09 12:44:53+00:00  photos\\@lobelia4cosmetics_12366.jpg  \n",
       "1  2024-10-09 12:44:53+00:00  photos\\@lobelia4cosmetics_12365.jpg  \n",
       "2  2024-10-09 12:44:53+00:00  photos\\@lobelia4cosmetics_12364.jpg  \n",
       "3  2024-10-09 12:44:53+00:00  photos\\@lobelia4cosmetics_12363.jpg  \n",
       "4  2024-10-09 12:44:53+00:00  photos\\@lobelia4cosmetics_12362.jpg  "
      ]
     },
     "execution_count": 13,
     "metadata": {},
     "output_type": "execute_result"
    }
   ],
   "source": [
    "df.head()"
   ]
  },
  {
   "cell_type": "code",
   "execution_count": 19,
   "metadata": {},
   "outputs": [
    {
     "name": "stdout",
     "output_type": "stream",
     "text": [
      "<class 'pandas.core.frame.DataFrame'>\n",
      "Index: 237 entries, 0 to 2338\n",
      "Data columns (total 6 columns):\n",
      " #   Column            Non-Null Count  Dtype \n",
      "---  ------            --------------  ----- \n",
      " 0   Channel Title     237 non-null    object\n",
      " 1   Channel Username  237 non-null    object\n",
      " 2   ID                237 non-null    int64 \n",
      " 3   Message           237 non-null    object\n",
      " 4   Date              237 non-null    object\n",
      " 5   Media Path        234 non-null    object\n",
      "dtypes: int64(1), object(5)\n",
      "memory usage: 13.0+ KB\n"
     ]
    }
   ],
   "source": [
    "df[df[\"Channel Username\"] == \"@lobelia4cosmetics\"].info(5)"
   ]
  },
  {
   "cell_type": "markdown",
   "metadata": {},
   "source": [
    "### Droping the \"Media Path\" Column"
   ]
  },
  {
   "cell_type": "code",
   "execution_count": 20,
   "metadata": {},
   "outputs": [],
   "source": [
    "filtered_df = df.drop('Media Path', axis=1)"
   ]
  },
  {
   "cell_type": "code",
   "execution_count": 25,
   "metadata": {},
   "outputs": [
    {
     "data": {
      "text/html": [
       "<div>\n",
       "<style scoped>\n",
       "    .dataframe tbody tr th:only-of-type {\n",
       "        vertical-align: middle;\n",
       "    }\n",
       "\n",
       "    .dataframe tbody tr th {\n",
       "        vertical-align: top;\n",
       "    }\n",
       "\n",
       "    .dataframe thead th {\n",
       "        text-align: right;\n",
       "    }\n",
       "</style>\n",
       "<table border=\"1\" class=\"dataframe\">\n",
       "  <thead>\n",
       "    <tr style=\"text-align: right;\">\n",
       "      <th></th>\n",
       "      <th>Channel Title</th>\n",
       "      <th>Channel Username</th>\n",
       "      <th>ID</th>\n",
       "      <th>Message</th>\n",
       "      <th>Date</th>\n",
       "    </tr>\n",
       "  </thead>\n",
       "  <tbody>\n",
       "    <tr>\n",
       "      <th>0</th>\n",
       "      <td>Lobelia pharmacy and cosmetics</td>\n",
       "      <td>@lobelia4cosmetics</td>\n",
       "      <td>12366</td>\n",
       "      <td>SULFUR8 205g\\nPrice 3000 birr \\nTelegram https...</td>\n",
       "      <td>2024-10-09 12:44:53+00:00</td>\n",
       "    </tr>\n",
       "    <tr>\n",
       "      <th>1</th>\n",
       "      <td>Lobelia pharmacy and cosmetics</td>\n",
       "      <td>@lobelia4cosmetics</td>\n",
       "      <td>12365</td>\n",
       "      <td>CHIA SEEDS \\nPrice 3000 birr \\nTelegram https:...</td>\n",
       "      <td>2024-10-09 12:44:53+00:00</td>\n",
       "    </tr>\n",
       "    <tr>\n",
       "      <th>2</th>\n",
       "      <td>Lobelia pharmacy and cosmetics</td>\n",
       "      <td>@lobelia4cosmetics</td>\n",
       "      <td>12364</td>\n",
       "      <td>GLUCOSAMINE 1000MG/100MG 90 CAPSULES \\nPrice 5...</td>\n",
       "      <td>2024-10-09 12:44:53+00:00</td>\n",
       "    </tr>\n",
       "    <tr>\n",
       "      <th>3</th>\n",
       "      <td>Lobelia pharmacy and cosmetics</td>\n",
       "      <td>@lobelia4cosmetics</td>\n",
       "      <td>12363</td>\n",
       "      <td>SUDO CREAM \\nPrice 4000 birr \\nTelegram https:...</td>\n",
       "      <td>2024-10-09 12:44:53+00:00</td>\n",
       "    </tr>\n",
       "    <tr>\n",
       "      <th>4</th>\n",
       "      <td>Lobelia pharmacy and cosmetics</td>\n",
       "      <td>@lobelia4cosmetics</td>\n",
       "      <td>12362</td>\n",
       "      <td>Coconut oil \\nPrice 4500 birr \\nTelegram https...</td>\n",
       "      <td>2024-10-09 12:44:53+00:00</td>\n",
       "    </tr>\n",
       "  </tbody>\n",
       "</table>\n",
       "</div>"
      ],
      "text/plain": [
       "                    Channel Title    Channel Username     ID  \\\n",
       "0  Lobelia pharmacy and cosmetics  @lobelia4cosmetics  12366   \n",
       "1  Lobelia pharmacy and cosmetics  @lobelia4cosmetics  12365   \n",
       "2  Lobelia pharmacy and cosmetics  @lobelia4cosmetics  12364   \n",
       "3  Lobelia pharmacy and cosmetics  @lobelia4cosmetics  12363   \n",
       "4  Lobelia pharmacy and cosmetics  @lobelia4cosmetics  12362   \n",
       "\n",
       "                                             Message  \\\n",
       "0  SULFUR8 205g\\nPrice 3000 birr \\nTelegram https...   \n",
       "1  CHIA SEEDS \\nPrice 3000 birr \\nTelegram https:...   \n",
       "2  GLUCOSAMINE 1000MG/100MG 90 CAPSULES \\nPrice 5...   \n",
       "3  SUDO CREAM \\nPrice 4000 birr \\nTelegram https:...   \n",
       "4  Coconut oil \\nPrice 4500 birr \\nTelegram https...   \n",
       "\n",
       "                        Date  \n",
       "0  2024-10-09 12:44:53+00:00  \n",
       "1  2024-10-09 12:44:53+00:00  \n",
       "2  2024-10-09 12:44:53+00:00  \n",
       "3  2024-10-09 12:44:53+00:00  \n",
       "4  2024-10-09 12:44:53+00:00  "
      ]
     },
     "execution_count": 25,
     "metadata": {},
     "output_type": "execute_result"
    }
   ],
   "source": [
    "filtered_df.head()"
   ]
  },
  {
   "cell_type": "markdown",
   "metadata": {},
   "source": [
    "### Exporting the Data to CSV"
   ]
  },
  {
   "cell_type": "code",
   "execution_count": 23,
   "metadata": {},
   "outputs": [],
   "source": [
    "filtered_df.to_csv('cleaned_data.csv', index=False) "
   ]
  },
  {
   "cell_type": "code",
   "execution_count": null,
   "metadata": {},
   "outputs": [],
   "source": []
  }
 ],
 "metadata": {
  "kernelspec": {
   "display_name": ".venv",
   "language": "python",
   "name": "python3"
  },
  "language_info": {
   "codemirror_mode": {
    "name": "ipython",
    "version": 3
   },
   "file_extension": ".py",
   "mimetype": "text/x-python",
   "name": "python",
   "nbconvert_exporter": "python",
   "pygments_lexer": "ipython3",
   "version": "3.11.5"
  }
 },
 "nbformat": 4,
 "nbformat_minor": 2
}
